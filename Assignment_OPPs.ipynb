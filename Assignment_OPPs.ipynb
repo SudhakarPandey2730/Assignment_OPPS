{
  "nbformat": 4,
  "nbformat_minor": 0,
  "metadata": {
    "colab": {
      "provenance": []
    },
    "kernelspec": {
      "name": "python3",
      "display_name": "Python 3"
    },
    "language_info": {
      "name": "python"
    }
  },
  "cells": [
    {
      "cell_type": "markdown",
      "source": [
        "#**Assignment - OPPS (Module - 5)**"
      ],
      "metadata": {
        "id": "yIRjLCFGXGUP"
      }
    },
    {
      "cell_type": "markdown",
      "source": [
        "**Question_1 : What are the five key concepts of Object-Oriented Programming (OOP)?**"
      ],
      "metadata": {
        "id": "yUATxpxvXezP"
      }
    },
    {
      "cell_type": "markdown",
      "source": [
        "Solution:\n",
        "\n",
        "The main key concepts of Object-Oriented Programming (OOP) are:\n",
        "\n",
        "1. Encapsulation: Encapsulation refers to bundling the data (attributes) and the methods (functions) that operate on the data into a single unit, or class. It also restricts direct access to some of an object’s components, which is known as data hiding. This is achieved through access modifiers like private, protected, and public. In simple word, we can say that encapsulation acts like the medicine capsule where we put the entire thing in a single unit.\n",
        "\n",
        "2. Abstraction: Abstraction is the concept of hiding the complex implementation details and showing only the essential features of the object. It allows you to focus on what the object does instead of how it does it.\n",
        "\n",
        "3. Inheritance: Inheritance allows one class (child class) to inherit attributes and methods from another class (parent class). It promotes code reuse and establishes a relationship between classes.\n",
        "\n",
        "4. Polymorphism: Polymorphism allows objects to be treated as instances of their parent class. It also allows the same function to operate on different types of data, typically achieved through method overloading (same method name, different parameters) or method overriding (redefining a method in a subclass).\n",
        "\n",
        "5. Association/Composition/Aggregation:\n",
        "\n",
        "  Association refers to the relationship between two classes that establishes a connection.\n",
        "\n",
        "  Composition is a strong form of association where the composed object cannot exist independently of the other class.\n",
        "  \n",
        "  Aggregation is a weaker form where the associated objects can exist independently."
      ],
      "metadata": {
        "id": "VwiDvEKIXxIl"
      }
    },
    {
      "cell_type": "markdown",
      "source": [
        "**Question_2 : Write a Python class for a 'Car' with attributes for 'make', 'model', and 'year'. Include a method to display\n",
        "the car's information.**"
      ],
      "metadata": {
        "id": "WzYpOKs3ZSp5"
      }
    },
    {
      "cell_type": "markdown",
      "source": [
        "Solution:"
      ],
      "metadata": {
        "id": "vrpNAmWCZsU3"
      }
    },
    {
      "cell_type": "code",
      "execution_count": null,
      "metadata": {
        "colab": {
          "base_uri": "https://localhost:8080/"
        },
        "id": "d4crFkt4W9Sk",
        "outputId": "0676369c-1843-43da-dd2b-5dfaeea48d18"
      },
      "outputs": [
        {
          "output_type": "stream",
          "name": "stdout",
          "text": [
            "Car Information: 2022 Toyota Camry\n"
          ]
        }
      ],
      "source": [
        "class Car:\n",
        "    def __init__(self, make, model, year):\n",
        "        self.make = make\n",
        "        self.model = model\n",
        "        self.year = year\n",
        "\n",
        "    def display_info(self):\n",
        "        print(f\"Car Information: {self.year} {self.make} {self.model}\")\n",
        "\n",
        "# Creating an instance of the Car class\n",
        "my_car = Car(\"Toyota\", \"Camry\", 2022)\n",
        "\n",
        "# Displaying the car's information\n",
        "my_car.display_info()"
      ]
    },
    {
      "cell_type": "markdown",
      "source": [
        "**Questiojn_3 : Explain the difference between instance methods and class methods. Provide an example of each.**"
      ],
      "metadata": {
        "id": "CZCxMBHTaAGU"
      }
    },
    {
      "cell_type": "markdown",
      "source": [
        "Solution:\n",
        "\n",
        "The key difference between instance methods and class methods are listed below:\n",
        "\n",
        "**1. Instance Method**\n",
        "\n",
        "- Definition: These methods are called on instances (objects) of the class and can access and modify the instance’s attributes.\n",
        "- Behavior: They operate on specific instances of a class, and the first parameter is always self, which refers to the instance calling the method.\n",
        "- Conclusion:\n",
        "\n",
        "  i. Operate on individual objects.\n",
        "  \n",
        "  ii. Can access and modify instance attributes."
      ],
      "metadata": {
        "id": "P6hM03KeaIw8"
      }
    },
    {
      "cell_type": "code",
      "source": [
        "class MyClass:\n",
        "    def __init__(self, value):\n",
        "        self.value = value  # Instance attribute\n",
        "\n",
        "    def instance_method(self):\n",
        "        return f\"Instance method called. Value is {self.value}\"\n",
        "\n",
        "# Create an instance/object of class : MyClass\n",
        "obj = MyClass(10)\n",
        "\n",
        "# Call the instance method\n",
        "print(obj.instance_method())  # Output: Instance method called. Value is 10"
      ],
      "metadata": {
        "colab": {
          "base_uri": "https://localhost:8080/"
        },
        "id": "CsZZrkj6Z6pm",
        "outputId": "56e2db9e-a6b2-41d2-cef7-c3280e9515d2"
      },
      "execution_count": null,
      "outputs": [
        {
          "output_type": "stream",
          "name": "stdout",
          "text": [
            "Instance method called. Value is 10\n"
          ]
        }
      ]
    },
    {
      "cell_type": "markdown",
      "source": [
        "**2. Class Method**\n",
        "\n",
        "- Definition: These methods are called on the class itself, not on instances, and the first parameter is cls, which refers to the class.\n",
        "- Definition: These methods are called on the class itself, not on instances, and the first parameter is cls, which refers to the class.\n",
        "- Declaration: Use the *@classmethod* decorator.\n",
        "- Conclusion:\n",
        "\n",
        "  i. Operate on the class itself.\n",
        "\n",
        "  ii. Can modify class attributes shared across all instances but cannot directly access or modify instance-specific attributes."
      ],
      "metadata": {
        "id": "g_eYorXGbg8M"
      }
    },
    {
      "cell_type": "code",
      "source": [
        "class MyClass:\n",
        "    class_value = 0  # Class attribute\n",
        "\n",
        "    def __init__(self, value):\n",
        "        self.value = value  # Instance attribute\n",
        "\n",
        "    @classmethod\n",
        "    def class_method(cls):\n",
        "        cls.class_value += 1\n",
        "        return f\"Class method called. Class value is now {cls.class_value}\"\n",
        "\n",
        "# Call the class method without creating an instance\n",
        "print(MyClass.class_method())  # Output: Class method called. Class value is now 1\n",
        "\n",
        "# Call the class method again\n",
        "print(MyClass.class_method())  # Output: Class method called. Class value is now 2"
      ],
      "metadata": {
        "colab": {
          "base_uri": "https://localhost:8080/"
        },
        "id": "l0uorGj9bYqo",
        "outputId": "ca33cf1c-4196-48d6-d1a4-97499754acb0"
      },
      "execution_count": null,
      "outputs": [
        {
          "output_type": "stream",
          "name": "stdout",
          "text": [
            "Class method called. Class value is now 1\n",
            "Class method called. Class value is now 2\n"
          ]
        }
      ]
    },
    {
      "cell_type": "markdown",
      "source": [
        "**Question_4: How does Python implement method overloading? Give an example.**"
      ],
      "metadata": {
        "id": "b85gm4HPcRAF"
      }
    },
    {
      "cell_type": "markdown",
      "source": [
        "Solution:\n",
        "\n",
        "Method Overloading in python is the ability to define multiple methods with the same name but different signatures.\n",
        "\n",
        "It is not directly supported as in some other languages like Java or C++.\n",
        "\n",
        "However, Python can execute Method Overloading using default arguments, variable-length arguments (*args, **kwargs), or through type checking inside a method."
      ],
      "metadata": {
        "id": "JET3Kwg9cYIk"
      }
    },
    {
      "cell_type": "markdown",
      "source": [
        "### 1. Example of Method Overloading using Default Arguments."
      ],
      "metadata": {
        "id": "zlhu95zcdXGk"
      }
    },
    {
      "cell_type": "code",
      "source": [
        "class Calculator:\n",
        "    def add(self, a, b=0, c=0):\n",
        "        return a + b + c\n",
        "\n",
        "# Create an instance\n",
        "calc = Calculator()\n",
        "\n",
        "# Call the method with different numbers of arguments\n",
        "print(calc.add(5))        # Output: 5 (uses default b=0, c=0)\n",
        "print(calc.add(5, 10))    # Output: 15 (uses default c=0)\n",
        "print(calc.add(5, 10, 15))# Output: 30"
      ],
      "metadata": {
        "colab": {
          "base_uri": "https://localhost:8080/"
        },
        "id": "vztCl7uicEVu",
        "outputId": "7d0c717f-fca2-4419-e342-803769f5e3f3"
      },
      "execution_count": null,
      "outputs": [
        {
          "output_type": "stream",
          "name": "stdout",
          "text": [
            "5\n",
            "15\n",
            "30\n"
          ]
        }
      ]
    },
    {
      "cell_type": "markdown",
      "source": [
        "NOTE: In this case, the add method can take one, two, or three arguments because of the default values assigned to b and c."
      ],
      "metadata": {
        "id": "OJkQO1QudjRL"
      }
    },
    {
      "cell_type": "markdown",
      "source": [
        "### 2. Example of Method Overloading using *args (Variable-Length Arguments)."
      ],
      "metadata": {
        "id": "TzFVCuhGdx2c"
      }
    },
    {
      "cell_type": "code",
      "source": [
        "class Calculator:\n",
        "    def add(self, *args):\n",
        "        return sum(args)\n",
        "\n",
        "# Create an instance\n",
        "calc = Calculator()\n",
        "\n",
        "# Call the method with different numbers of arguments\n",
        "print(calc.add(5))           # Output: 5\n",
        "print(calc.add(5, 10))       # Output: 15\n",
        "print(calc.add(5, 10, 15))   # Output: 30"
      ],
      "metadata": {
        "colab": {
          "base_uri": "https://localhost:8080/"
        },
        "id": "pJB5AVWUdvWl",
        "outputId": "9fc1cd4b-ef39-46d5-94cf-64226c316f92"
      },
      "execution_count": null,
      "outputs": [
        {
          "output_type": "stream",
          "name": "stdout",
          "text": [
            "5\n",
            "15\n",
            "30\n"
          ]
        }
      ]
    },
    {
      "cell_type": "markdown",
      "source": [
        "NOTE:  the add method can take any number of arguments, and all of them will be added."
      ],
      "metadata": {
        "id": "yB0Sr38geJ2F"
      }
    },
    {
      "cell_type": "markdown",
      "source": [
        "### 3. Example of Method Overloading using Type Checking"
      ],
      "metadata": {
        "id": "ff2LARx2eQsF"
      }
    },
    {
      "cell_type": "code",
      "source": [
        "class Printer:\n",
        "    def print_value(self, value):\n",
        "        if isinstance(value, int):\n",
        "            print(f\"Integer: {value}\")\n",
        "        elif isinstance(value, str):\n",
        "            print(f\"String: {value}\")\n",
        "        else:\n",
        "            print(\"Unknown type\")\n",
        "\n",
        "# Create an instance\n",
        "printer = Printer()\n",
        "\n",
        "# Call the method with different types of arguments\n",
        "printer.print_value(10)      # Output: Integer: 10\n",
        "printer.print_value(\"Hello\") # Output: String: Hello"
      ],
      "metadata": {
        "colab": {
          "base_uri": "https://localhost:8080/"
        },
        "id": "QYYrTk5deE02",
        "outputId": "0227b265-90dd-4f18-ef60-08cbe16d2ca2"
      },
      "execution_count": null,
      "outputs": [
        {
          "output_type": "stream",
          "name": "stdout",
          "text": [
            "Integer: 10\n",
            "String: Hello\n"
          ]
        }
      ]
    },
    {
      "cell_type": "markdown",
      "source": [
        "**Question_5: What are the three types of access modifiers in Python? How are they denoted?**"
      ],
      "metadata": {
        "id": "m5KCUPdJehPe"
      }
    },
    {
      "cell_type": "markdown",
      "source": [
        "Solution:\n",
        "\n",
        "The three types of access modifiers in python that control the visibility of class members (attributes and methods) are:\n",
        "\n",
        "\n",
        "### 1.Public (No underscore or a single underscore prefix)\n",
        "\n",
        "- Definition: Public members are accessible from anywhere inside or outside the class.\n",
        "\n",
        "- Denotation: Public attributes and methods are defined without any underscores or, optionally, with a single underscore (by convention, although the single underscore doesn't enforce privacy in any way)."
      ],
      "metadata": {
        "id": "n4r1Gj9RfIWF"
      }
    },
    {
      "cell_type": "code",
      "source": [
        "class MyClass:\n",
        "    def __init__(self):\n",
        "        self.public_var = \"I am public\"\n",
        "\n",
        "    def public_method(self):\n",
        "        print(\"This is a public method\")\n",
        "\n",
        "obj = MyClass()\n",
        "print(obj.public_var)  # Accessible\n",
        "obj.public_method()    # Accessible"
      ],
      "metadata": {
        "colab": {
          "base_uri": "https://localhost:8080/"
        },
        "id": "9P9VI3n3eWNc",
        "outputId": "4a7c169c-3b07-4af9-d870-9b9764b5fa7c"
      },
      "execution_count": null,
      "outputs": [
        {
          "output_type": "stream",
          "name": "stdout",
          "text": [
            "I am public\n",
            "This is a public method\n"
          ]
        }
      ]
    },
    {
      "cell_type": "markdown",
      "source": [
        "### 2.Protected (Single underscore prefix: _attribute or _method)\n",
        "\n",
        "- Definition: Protected members are meant to be used within the class and its subclasses. By convention, they are not meant to be accessed directly outside the class, but Python does not enforce this.\n",
        "- Denotation: Protected members are prefixed with a single underscore (_)."
      ],
      "metadata": {
        "id": "qErRdTmGfzQj"
      }
    },
    {
      "cell_type": "code",
      "source": [
        "class MyClass:\n",
        "    def __init__(self):\n",
        "        self._protected_var = \"I am protected\"\n",
        "\n",
        "    def _protected_method(self):\n",
        "        print(\"This is a protected method\")\n",
        "\n",
        "obj = MyClass()\n",
        "print(obj._protected_var)  # Accessible but not recommended\n",
        "obj._protected_method()    # Accessible but not recommended"
      ],
      "metadata": {
        "colab": {
          "base_uri": "https://localhost:8080/"
        },
        "id": "CNnvmcshfx-d",
        "outputId": "e07d1831-621b-4cda-ea64-6e325b342d9f"
      },
      "execution_count": null,
      "outputs": [
        {
          "output_type": "stream",
          "name": "stdout",
          "text": [
            "I am protected\n",
            "This is a protected method\n"
          ]
        }
      ]
    },
    {
      "cell_type": "markdown",
      "source": [
        "### 3.Private (Double underscore prefix: __attribute or __method)"
      ],
      "metadata": {
        "id": "nZ_64s6FgO7U"
      }
    },
    {
      "cell_type": "markdown",
      "source": [
        "- Definition: Private members are intended to be used only within the class in which they are defined. They are not accessible from outside the class, including subclasses. Python implements this through name mangling, which changes the name of the variable to make it less accessible.\n",
        "- Denotation: Private members are prefixed with a double underscore (__)."
      ],
      "metadata": {
        "id": "yrFJg3aLgUCj"
      }
    },
    {
      "cell_type": "code",
      "source": [
        "class MyClass:\n",
        "    def __init__(self):\n",
        "        self.__private_var = \"I am private\"\n",
        "\n",
        "    def __private_method(self):\n",
        "        print(\"This is a private method\")\n",
        "\n",
        "obj = MyClass()\n",
        "# print(obj.__private_var)  # This will raise an AttributeError\n",
        "# obj.__private_method()    # This will raise an AttributeError"
      ],
      "metadata": {
        "id": "3PmmSQE6gL4b"
      },
      "execution_count": null,
      "outputs": []
    },
    {
      "cell_type": "markdown",
      "source": [
        "NOTE: However, Python's name mangling mechanism renames the private variable to _ClassName__attribute."
      ],
      "metadata": {
        "id": "U3G3LDVJgwYd"
      }
    },
    {
      "cell_type": "code",
      "source": [
        "print(obj._MyClass__private_var)  # Accessible through name mangling\n",
        "obj._MyClass__private_method()    # Accessible through name mangling"
      ],
      "metadata": {
        "colab": {
          "base_uri": "https://localhost:8080/"
        },
        "id": "6XypTmubgaij",
        "outputId": "5744ce15-8cec-4d5f-d6b1-ac0ba573fe38"
      },
      "execution_count": null,
      "outputs": [
        {
          "output_type": "stream",
          "name": "stdout",
          "text": [
            "I am private\n",
            "This is a private method\n"
          ]
        }
      ]
    },
    {
      "cell_type": "markdown",
      "source": [
        "**Question_6: Describe the five types of inheritance in Python. Provide a simple example of multiple inheritance.**"
      ],
      "metadata": {
        "id": "vhCmIV_OhQd1"
      }
    },
    {
      "cell_type": "markdown",
      "source": [
        "Solution:"
      ],
      "metadata": {
        "id": "S-z1fEcIhdiV"
      }
    },
    {
      "cell_type": "markdown",
      "source": [
        "In Python, inheritance allows one class (the child or derived class) to inherit attributes and methods from another class (the parent or base class).\n",
        "\n",
        "There are five types of inheritance supported in Python:"
      ],
      "metadata": {
        "id": "aGqWQCrqhmeT"
      }
    },
    {
      "cell_type": "markdown",
      "source": [
        "### 1.Single Inheritance\n",
        "\n",
        "In single inheritance, a child class inherits from a single parent class."
      ],
      "metadata": {
        "id": "ykHe1huyhtHT"
      }
    },
    {
      "cell_type": "code",
      "source": [
        "class Parent:\n",
        "    def parent_method(self):\n",
        "        print(\"This is the parent method.\")\n",
        "\n",
        "class Child(Parent):\n",
        "    def child_method(self):\n",
        "        print(\"This is the child method.\")\n",
        "\n",
        "child = Child()\n",
        "child.parent_method()  # Inherited from Parent\n",
        "child.child_method()   # Defined in Child"
      ],
      "metadata": {
        "colab": {
          "base_uri": "https://localhost:8080/"
        },
        "id": "5-XckUpYgsXr",
        "outputId": "8876b965-1f8f-4938-c267-252f1b9168b7"
      },
      "execution_count": null,
      "outputs": [
        {
          "output_type": "stream",
          "name": "stdout",
          "text": [
            "This is the parent method.\n",
            "This is the child method.\n"
          ]
        }
      ]
    },
    {
      "cell_type": "markdown",
      "source": [
        "### 2. Multiple Inheritance\n",
        "\n",
        "In multiple inheritance, a child class can inherit from more than one parent class. The child class can access attributes and methods from all parent classes."
      ],
      "metadata": {
        "id": "l0-BR7vgiFb0"
      }
    },
    {
      "cell_type": "code",
      "source": [
        "class Parent1:\n",
        "    def method1(self):\n",
        "        print(\"This is method1 from Parent1.\")\n",
        "\n",
        "class Parent2:\n",
        "    def method2(self):\n",
        "        print(\"This is method2 from Parent2.\")\n",
        "\n",
        "class Child(Parent1, Parent2):\n",
        "    def child_method(self):\n",
        "        print(\"This is the child method.\")\n",
        "\n",
        "child = Child()\n",
        "child.method1()  # Inherited from Parent1\n",
        "child.method2()  # Inherited from Parent2"
      ],
      "metadata": {
        "colab": {
          "base_uri": "https://localhost:8080/"
        },
        "id": "dQ97q58FiTaM",
        "outputId": "c2c8fafa-9ec2-4dc7-d271-85e35f4f314f"
      },
      "execution_count": null,
      "outputs": [
        {
          "output_type": "stream",
          "name": "stdout",
          "text": [
            "This is method1 from Parent1.\n",
            "This is method2 from Parent2.\n"
          ]
        }
      ]
    },
    {
      "cell_type": "markdown",
      "source": [
        "### 3. Multilevel Inheritance\n",
        "\n",
        "In multilevel inheritance, a class inherits from a class that is already a derived class. This forms a chain of inheritance."
      ],
      "metadata": {
        "id": "N8PRae3KiATK"
      }
    },
    {
      "cell_type": "code",
      "source": [
        "class Grandparent:\n",
        "    def grandparent_method(self):\n",
        "        print(\"This is the grandparent method.\")\n",
        "\n",
        "class Parent(Grandparent):\n",
        "    def parent_method(self):\n",
        "        print(\"This is the parent method.\")\n",
        "\n",
        "class Child(Parent):\n",
        "    def child_method(self):\n",
        "        print(\"This is the child method.\")\n",
        "\n",
        "child = Child()\n",
        "child.grandparent_method()  # Inherited from Grandparent\n",
        "child.parent_method()       # Inherited from Parent\n",
        "child.child_method()        # Defined in Child"
      ],
      "metadata": {
        "colab": {
          "base_uri": "https://localhost:8080/"
        },
        "id": "NVbuBaywimvL",
        "outputId": "9027a64b-a461-4c62-b570-a4cd04124289"
      },
      "execution_count": null,
      "outputs": [
        {
          "output_type": "stream",
          "name": "stdout",
          "text": [
            "This is the grandparent method.\n",
            "This is the parent method.\n",
            "This is the child method.\n"
          ]
        }
      ]
    },
    {
      "cell_type": "markdown",
      "source": [
        "### 4. Hierarchical Inheritance\n",
        "\n",
        "In hierarchical inheritance, multiple child classes inherit from the same parent class."
      ],
      "metadata": {
        "id": "URN3JRPOiwuV"
      }
    },
    {
      "cell_type": "code",
      "source": [
        "class Parent:\n",
        "    def parent_method(self):\n",
        "        print(\"This is the parent method.\")\n",
        "\n",
        "class Child1(Parent):\n",
        "    def child1_method(self):\n",
        "        print(\"This is the child1 method.\")\n",
        "\n",
        "class Child2(Parent):\n",
        "    def child2_method(self):\n",
        "        print(\"This is the child2 method.\")\n",
        "\n",
        "child1 = Child1()\n",
        "child2 = Child2()\n",
        "child1.parent_method()  # Inherited from Parent\n",
        "child2.parent_method()  # Inherited from Parent"
      ],
      "metadata": {
        "colab": {
          "base_uri": "https://localhost:8080/"
        },
        "id": "zKE-qOVYip57",
        "outputId": "13b6887d-fb8e-443d-81c7-be96a1c25c28"
      },
      "execution_count": null,
      "outputs": [
        {
          "output_type": "stream",
          "name": "stdout",
          "text": [
            "This is the parent method.\n",
            "This is the parent method.\n"
          ]
        }
      ]
    },
    {
      "cell_type": "markdown",
      "source": [
        "### 5. Hybrid Inheritance\n",
        "\n",
        "Hybrid inheritance is a combination of two or more types of inheritance.\n",
        "\n",
        "It usually involves a mix of hierarchical and multiple inheritance."
      ],
      "metadata": {
        "id": "iPGM-r3QjEvT"
      }
    },
    {
      "cell_type": "code",
      "source": [
        "class Base:\n",
        "    def base_method(self):\n",
        "        print(\"This is the base method.\")\n",
        "\n",
        "class Child1(Base):\n",
        "    def child1_method(self):\n",
        "        print(\"This is the child1 method.\")\n",
        "\n",
        "class Child2(Base):\n",
        "    def child2_method(self):\n",
        "        print(\"This is the child2 method.\")\n",
        "\n",
        "class Grandchild(Child1, Child2):\n",
        "    def grandchild_method(self):\n",
        "        print(\"This is the grandchild method.\")\n",
        "\n",
        "grandchild = Grandchild()\n",
        "grandchild.base_method()  # Inherited from Base"
      ],
      "metadata": {
        "colab": {
          "base_uri": "https://localhost:8080/"
        },
        "id": "TDxAI5Zci5NL",
        "outputId": "5cfdff79-fa18-449f-8a0b-6c82e9e164df"
      },
      "execution_count": null,
      "outputs": [
        {
          "output_type": "stream",
          "name": "stdout",
          "text": [
            "This is the base method.\n"
          ]
        }
      ]
    },
    {
      "cell_type": "markdown",
      "source": [
        "**Question_7: What is the Method Resolution Order (MRO) in Python? How can you retrieve it programmatically.**"
      ],
      "metadata": {
        "id": "vuGvR-pWjhDk"
      }
    },
    {
      "cell_type": "markdown",
      "source": [
        "Solution:\n",
        "\n",
        "Method Resolution Order (MRO) defines the order in which Python looks for a method or attribute in a hierarchy of classes during inheritance.\n",
        "\n",
        "It is especially important in cases of multiple inheritance to avoid ambiguity when searching for methods or attributes in parent classes.\n",
        "\n",
        "Python uses the C3 Linearization (or C3 superclass linearization) algorithm to determine the MRO.\n",
        "\n",
        "This ensures that the inheritance hierarchy is traversed in a consistent and predictable manner."
      ],
      "metadata": {
        "id": "5F_Bg1hukD0C"
      }
    },
    {
      "cell_type": "code",
      "source": [
        "# Example\n",
        "class A:\n",
        "    def method(self):\n",
        "        print(\"Method in A\")\n",
        "\n",
        "class B(A):\n",
        "    def method(self):\n",
        "        print(\"Method in B\")\n",
        "\n",
        "class C(A):\n",
        "    def method(self):\n",
        "        print(\"Method in C\")\n",
        "\n",
        "class D(B, C):\n",
        "    pass\n",
        "\n",
        "obj = D()\n",
        "obj.method()  # Which method gets called?"
      ],
      "metadata": {
        "colab": {
          "base_uri": "https://localhost:8080/"
        },
        "id": "RGcR-BmcjX07",
        "outputId": "af5ab41e-7a0c-45ff-828c-01ba8ac7e5e0"
      },
      "execution_count": null,
      "outputs": [
        {
          "output_type": "stream",
          "name": "stdout",
          "text": [
            "Method in B\n"
          ]
        }
      ]
    },
    {
      "cell_type": "markdown",
      "source": [
        "### Ways to retrieve the MRO Programmatically"
      ],
      "metadata": {
        "id": "vB-WYPDzky2t"
      }
    },
    {
      "cell_type": "markdown",
      "source": [
        "- Using the mro() Method:\n",
        "\n",
        "  The mro() method is available for every class and returns the method resolution order as a list."
      ],
      "metadata": {
        "id": "CC9tpw3vk4Ts"
      }
    },
    {
      "cell_type": "code",
      "source": [
        "print(D.mro())"
      ],
      "metadata": {
        "colab": {
          "base_uri": "https://localhost:8080/"
        },
        "id": "Gqd0uKFmkX-1",
        "outputId": "25f54c25-b711-46bc-e721-7398ac0617f0"
      },
      "execution_count": null,
      "outputs": [
        {
          "output_type": "stream",
          "name": "stdout",
          "text": [
            "[<class '__main__.D'>, <class '__main__.B'>, <class '__main__.C'>, <class '__main__.A'>, <class 'object'>]\n"
          ]
        }
      ]
    },
    {
      "cell_type": "markdown",
      "source": [
        "  NOTE: This shows the order in which Python will search for methods when an instance of class D calls a method."
      ],
      "metadata": {
        "id": "fWlTObublGJa"
      }
    },
    {
      "cell_type": "markdown",
      "source": [
        "- Using the __mro__ Attribute:\n",
        "\n",
        "  The __mro__ attribute is another way to access the MRO as a tuple."
      ],
      "metadata": {
        "id": "R1S03rh0lMWl"
      }
    },
    {
      "cell_type": "code",
      "source": [
        "print(D.__mro__)"
      ],
      "metadata": {
        "colab": {
          "base_uri": "https://localhost:8080/"
        },
        "id": "_LEZXv56lPWH",
        "outputId": "f1ca4138-b32a-4aca-def5-5e3a4f9ac952"
      },
      "execution_count": null,
      "outputs": [
        {
          "output_type": "stream",
          "name": "stdout",
          "text": [
            "(<class '__main__.D'>, <class '__main__.B'>, <class '__main__.C'>, <class '__main__.A'>, <class 'object'>)\n"
          ]
        }
      ]
    },
    {
      "cell_type": "markdown",
      "source": [
        "**Question_8:  Create an abstract base class 'Shape' with an abstract method 'area'. Then create two subclasses\n",
        "'Circle' and 'Rectangle' that implement the 'area()' method.**"
      ],
      "metadata": {
        "id": "TxfZPsPll25C"
      }
    },
    {
      "cell_type": "markdown",
      "source": [
        "Solution:"
      ],
      "metadata": {
        "id": "kSZbBOlfmP4z"
      }
    },
    {
      "cell_type": "code",
      "source": [
        "from abc import ABC, abstractmethod\n",
        "import math\n",
        "\n",
        "# Abstract base class\n",
        "class Shape(ABC):\n",
        "\n",
        "    # Abstract method\n",
        "    @abstractmethod\n",
        "    def area(self):\n",
        "        pass\n",
        "\n",
        "# Subclass Circle implementing the area method\n",
        "class Circle(Shape):\n",
        "\n",
        "    def __init__(self, radius):\n",
        "        self.radius = radius\n",
        "\n",
        "    def area(self):\n",
        "        return math.pi * (self.radius ** 2)\n",
        "\n",
        "# Subclass Rectangle implementing the area method\n",
        "class Rectangle(Shape):\n",
        "\n",
        "    def __init__(self, width, height):\n",
        "        self.width = width\n",
        "        self.height = height\n",
        "\n",
        "    def area(self):\n",
        "        return self.width * self.height\n",
        "\n",
        "# Create objects of Circle and Rectangle and calculate area\n",
        "circle = Circle(5)\n",
        "rectangle = Rectangle(4, 6)\n",
        "\n",
        "print(f\"Area of Circle: {circle.area()}\")     # Output: Area of Circle: 78.53981633974483\n",
        "print(f\"Area of Rectangle: {rectangle.area()}\") # Output: Area of Rectangle: 24"
      ],
      "metadata": {
        "colab": {
          "base_uri": "https://localhost:8080/"
        },
        "id": "zh3SmfkslcSL",
        "outputId": "6f3bf35d-8391-4f7e-c535-568984ae5554"
      },
      "execution_count": null,
      "outputs": [
        {
          "output_type": "stream",
          "name": "stdout",
          "text": [
            "Area of Circle: 78.53981633974483\n",
            "Area of Rectangle: 24\n"
          ]
        }
      ]
    },
    {
      "cell_type": "markdown",
      "source": [
        "**Question_9: Demonstrate polymorphism by creating a function that can work with different shape objects to calculate\n",
        "and print their areas.**"
      ],
      "metadata": {
        "id": "dtIVKtL_cqUS"
      }
    },
    {
      "cell_type": "markdown",
      "source": [
        "Solution:"
      ],
      "metadata": {
        "id": "hmvrsKXeeFNN"
      }
    },
    {
      "cell_type": "code",
      "source": [
        "# Polymorphism allows methods to be used in different ways depending on the objects they are called upon.\n",
        "'''Demonstrate polymorphism by creating a function that can work with different shape objects to calculate\n",
        "and print their areas.'''\n",
        "\n",
        "# Base class\n",
        "class Shape:\n",
        "    def area(self):\n",
        "        pass\n",
        "\n",
        "# Subclass for Rectangle\n",
        "class Rectangle(Shape):\n",
        "    def __init__(self, width, height):\n",
        "        self.width = width\n",
        "        self.height = height\n",
        "\n",
        "    def area(self):\n",
        "        return self.width * self.height\n",
        "\n",
        "# Subclass for Circle\n",
        "class Circle(Shape):\n",
        "    def __init__(self, radius):\n",
        "        self.radius = radius\n",
        "\n",
        "    def area(self):\n",
        "        return 3.1416 * (self.radius ** 2)\n",
        "\n",
        "# Function to print the area of different shapes\n",
        "def print_area(shape):\n",
        "    print(f\"The area is: {shape.area()}\")\n",
        "\n",
        "# Create objects for Rectangle and Circle\n",
        "rect = Rectangle(10, 20)\n",
        "circ = Circle(7)\n",
        "\n",
        "# Demonstrating polymorphism by using the same function to print area of different shapes\n",
        "print_area(rect)\n",
        "print_area(circ)"
      ],
      "metadata": {
        "id": "jsxx_R1smU1M",
        "colab": {
          "base_uri": "https://localhost:8080/"
        },
        "outputId": "d6f04664-bdea-494d-c460-bf6cf43c60c1"
      },
      "execution_count": 1,
      "outputs": [
        {
          "output_type": "stream",
          "name": "stdout",
          "text": [
            "The area is: 200\n",
            "The area is: 153.9384\n"
          ]
        }
      ]
    },
    {
      "cell_type": "markdown",
      "source": [
        "NOTE : In above code, the print_area function demonstrates polymorphism by accepting different shape objects and calling their area method, even though the objects are of different types (Rectangle, Circle)."
      ],
      "metadata": {
        "id": "gCLm-IjtdSTF"
      }
    },
    {
      "cell_type": "markdown",
      "source": [
        "**Question_10: Implement encapsulation in a 'BankAccount' class with private attributes for 'balance' and\n",
        "'account_number'. Include methods for deposit, withdrawal, and balance inquiry.**"
      ],
      "metadata": {
        "id": "wMCBtBaBdfJP"
      }
    },
    {
      "cell_type": "markdown",
      "source": [
        "Solution:"
      ],
      "metadata": {
        "id": "CqyAYxf9eBoX"
      }
    },
    {
      "cell_type": "markdown",
      "source": [
        "Encapsulation is a principle of object-oriented programming that restricts direct access to some of an object's attributes and allows modification only through specific methods."
      ],
      "metadata": {
        "id": "_Gp21tYKeDn3"
      }
    },
    {
      "cell_type": "code",
      "source": [
        "class BankAccount:\n",
        "    def __init__(self, account_number, balance=0):\n",
        "        # Private attributes\n",
        "        self.__account_number = account_number\n",
        "        self.__balance = balance\n",
        "\n",
        "    # Method to deposit money\n",
        "    def deposit(self, amount):\n",
        "        if amount > 0:\n",
        "            self.__balance += amount\n",
        "            print(f\"Deposited ${amount:.2f}. New balance: ${self.__balance:.2f}\")\n",
        "        else:\n",
        "            print(\"Deposit amount must be positive.\")\n",
        "\n",
        "    # Method to withdraw money\n",
        "    def withdraw(self, amount):\n",
        "        if amount > 0:\n",
        "            if amount <= self.__balance:\n",
        "                self.__balance -= amount\n",
        "                print(f\"Withdrew ${amount:.2f}. New balance: ${self.__balance:.2f}\")\n",
        "            else:\n",
        "                print(\"Insufficient funds for this withdrawal.\")\n",
        "        else:\n",
        "            print(\"Withdrawal amount must be positive.\")\n",
        "\n",
        "    # Method to inquire balance\n",
        "    def get_balance(self):\n",
        "        return f\"Current balance: ${self.__balance:.2f}\"\n",
        "\n",
        "    # Method to get the account number (without allowing modifications)\n",
        "    def get_account_number(self):\n",
        "        return self.__account_number\n",
        "\n",
        "# Example usage\n",
        "account = BankAccount(\"12345671\", 1500)\n",
        "\n",
        "# Deposit money\n",
        "account.deposit(150)\n",
        "\n",
        "# Withdraw money\n",
        "account.withdraw(100)\n",
        "\n",
        "# Inquire balance\n",
        "print(account.get_balance())\n",
        "\n",
        "# Accessing private account number (without modifying it)\n",
        "print(f\"Account Number: {account.get_account_number()}\")"
      ],
      "metadata": {
        "colab": {
          "base_uri": "https://localhost:8080/"
        },
        "id": "lFaNjRDOdHmH",
        "outputId": "dd9f1624-aa12-4432-b8a3-176cd9111c87"
      },
      "execution_count": 3,
      "outputs": [
        {
          "output_type": "stream",
          "name": "stdout",
          "text": [
            "Deposited $150.00. New balance: $1650.00\n",
            "Withdrew $100.00. New balance: $1550.00\n",
            "Current balance: $1550.00\n",
            "Account Number: 12345671\n"
          ]
        }
      ]
    },
    {
      "cell_type": "markdown",
      "source": [
        "**Question_11: Write a class that overrides the `__str__` and `__add__` magic methods. What will these methods allow\n",
        "you to do?**"
      ],
      "metadata": {
        "id": "0is-9b4Ueb5V"
      }
    },
    {
      "cell_type": "markdown",
      "source": [
        "Solution:"
      ],
      "metadata": {
        "id": "SJxHeaDxf3AG"
      }
    },
    {
      "cell_type": "markdown",
      "source": [
        "\n",
        "In Python, magic methods (also called \"dunder\" methods because they start and end with double underscores) enable us to override the behavior of operators and built-in functions for user-defined objects."
      ],
      "metadata": {
        "id": "k6BaP-Z6f4-W"
      }
    },
    {
      "cell_type": "markdown",
      "source": [
        "Below is the class (example) that demonstrates overriding these methods."
      ],
      "metadata": {
        "id": "1j-56thIgIE1"
      }
    },
    {
      "cell_type": "code",
      "source": [
        "class Point:\n",
        "    def __init__(self, x, y):\n",
        "        self.x = x\n",
        "        self.y = y\n",
        "\n",
        "    # Override the __str__ method to customize the string representation of the object\n",
        "    def __str__(self):\n",
        "        return f\"Point({self.x}, {self.y})\"\n",
        "\n",
        "    # Override the __add__ method to define addition behavior between two Point objects\n",
        "    def __add__(self, other):\n",
        "        if isinstance(other, Point):\n",
        "            return Point(self.x + other.x, self.y + other.y)\n",
        "        return NotImplemented\n",
        "\n",
        "# Example usage\n",
        "p1 = Point(3, 4)\n",
        "p2 = Point(1, 2)\n",
        "\n",
        "# __str__ is invoked when printing the object\n",
        "print(p1)  # Output: Point(3, 4)\n",
        "\n",
        "# __add__ is invoked when using the + operator between two Point objects\n",
        "p3 = p1 + p2\n",
        "print(p3)  # Output: Point(4, 6)"
      ],
      "metadata": {
        "colab": {
          "base_uri": "https://localhost:8080/"
        },
        "id": "59d9SoyKgRKN",
        "outputId": "91a7f714-24ef-4924-b6c0-d6d5c38e6cdc"
      },
      "execution_count": 4,
      "outputs": [
        {
          "output_type": "stream",
          "name": "stdout",
          "text": [
            "Point(3, 4)\n",
            "Point(4, 6)\n"
          ]
        }
      ]
    },
    {
      "cell_type": "markdown",
      "source": [
        "Conclusion:\n",
        "  \n",
        "  - By overriding the __str__ and __add__ magic methods, we can customize how objects of a class are printed (via print() or str()) and how they behave when used with the + operator."
      ],
      "metadata": {
        "id": "guGWGbsAgiOs"
      }
    },
    {
      "cell_type": "markdown",
      "source": [
        "Benefits of Overriding These Methods::"
      ],
      "metadata": {
        "id": "zQZbQsaJgwNO"
      }
    },
    {
      "cell_type": "markdown",
      "source": [
        "- `__str__`: Allows for more intuitive and human-readable output when printing objects. This is helpful for debugging and logging.\n",
        "\n",
        "- `__add__`: Allows objects to be combined with the + operator, adding more flexibility and ease when dealing with user-defined types, just like built-in types like integers or lists."
      ],
      "metadata": {
        "id": "lVagw4zWg0gG"
      }
    },
    {
      "cell_type": "markdown",
      "source": [
        "**Question_12: Create a decorator that measures and prints the execution time of a function.**"
      ],
      "metadata": {
        "id": "mzzdID73h7Ju"
      }
    },
    {
      "cell_type": "markdown",
      "source": [
        "Solution:"
      ],
      "metadata": {
        "id": "4f5lsHj7iPIw"
      }
    },
    {
      "cell_type": "code",
      "source": [
        "import time\n",
        "\n",
        "# Define the decorator\n",
        "def measure_time(func):\n",
        "    def wrapper(*args, **kwargs):\n",
        "        start_time = time.time()  # Record the start time\n",
        "        result = func(*args, **kwargs)  # Call the actual function\n",
        "        end_time = time.time()  # Record the end time\n",
        "        execution_time = end_time - start_time  # Calculate the elapsed time\n",
        "        print(f\"Execution time of {func.__name__}: {execution_time:.6f} seconds\")\n",
        "        return result\n",
        "    return wrapper\n",
        "\n",
        "# Example usage of the decorator\n",
        "@measure_time\n",
        "def example_function(n):\n",
        "    total = 0\n",
        "    for i in range(n):\n",
        "        total += i\n",
        "    return total\n",
        "\n",
        "# Call the decorated function\n",
        "example_function(1000000)"
      ],
      "metadata": {
        "colab": {
          "base_uri": "https://localhost:8080/"
        },
        "id": "kJ5CVrUHgTk1",
        "outputId": "ce73abc3-9e86-4824-acd8-dcd0ec4aa32b"
      },
      "execution_count": 5,
      "outputs": [
        {
          "output_type": "stream",
          "name": "stdout",
          "text": [
            "Execution time of example_function: 0.175719 seconds\n"
          ]
        },
        {
          "output_type": "execute_result",
          "data": {
            "text/plain": [
              "499999500000"
            ]
          },
          "metadata": {},
          "execution_count": 5
        }
      ]
    },
    {
      "cell_type": "markdown",
      "source": [
        "**Question_13: Explain the concept of the Diamond Problem in multiple inheritance. How does Python resolve it?**"
      ],
      "metadata": {
        "id": "R_IpWPROiSbU"
      }
    },
    {
      "cell_type": "markdown",
      "source": [
        "Solution:"
      ],
      "metadata": {
        "id": "ULaIiJCMkBiN"
      }
    },
    {
      "cell_type": "markdown",
      "source": [
        "***The Diamond Problem*** arises in programming languages that support multiple inheritance. It occurs when a class inherits from two or more classes that have a common base class, creating ambiguity about which version of a method or attribute should be used from the base class."
      ],
      "metadata": {
        "id": "zkUPxZGAkR0F"
      }
    },
    {
      "cell_type": "markdown",
      "source": [
        "Consider the below diagram:"
      ],
      "metadata": {
        "id": "9R3Mo4v9klZF"
      }
    },
    {
      "cell_type": "markdown",
      "source": [
        "![Diamond Prblm Diagram.jpeg](data:image/jpeg;base64,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)"
      ],
      "metadata": {
        "id": "VcuzwiJ_mCWE"
      }
    },
    {
      "cell_type": "markdown",
      "source": [
        "In above diagram:\n",
        "\n",
        "- Class B and Class C both inherit from Class A.\n",
        "- Class D inherits from both Class B and Class C.\n"
      ],
      "metadata": {
        "id": "9mzL5EuumG81"
      }
    },
    {
      "cell_type": "markdown",
      "source": [
        "If both Class B and Class C override a method from Class A, and Class D calls that method, there is ambiguity: should it inherit the method from B or from C? This is known as the Diamond Problem because the inheritance diagram forms a diamond shape."
      ],
      "metadata": {
        "id": "QiAqVq2bpqhM"
      }
    },
    {
      "cell_type": "markdown",
      "source": [
        "Python solves the Diamond Problem using a feature called Method Resolution Order (MRO).\n",
        "\n",
        "Python follows the C3 linearization algorithm, which provides a clear, predictable order in which methods are inherited and ensures that each class in the hierarchy is only called once."
      ],
      "metadata": {
        "id": "PZN2eGxiqIJx"
      }
    },
    {
      "cell_type": "code",
      "source": [
        "class A:\n",
        "    def greet(self):\n",
        "        print(\"Hello from A\")\n",
        "\n",
        "class B(A):\n",
        "    def greet(self):\n",
        "        print(\"Hello from B\")\n",
        "\n",
        "class C(A):\n",
        "    def greet(self):\n",
        "        print(\"Hello from C\")\n",
        "\n",
        "class D(B, C):\n",
        "    pass\n",
        "\n",
        "# Create an instance of D\n",
        "d = D()\n",
        "d.greet()"
      ],
      "metadata": {
        "colab": {
          "base_uri": "https://localhost:8080/"
        },
        "id": "_N3DpRs8iNDu",
        "outputId": "f005c129-8d07-4dc5-cfdb-05c140068779"
      },
      "execution_count": 6,
      "outputs": [
        {
          "output_type": "stream",
          "name": "stdout",
          "text": [
            "Hello from B\n"
          ]
        }
      ]
    },
    {
      "cell_type": "markdown",
      "source": [
        "When d.greet() is called, Python uses the MRO to determine which greet method to call.\n",
        "\n",
        "In this case, Python will first look at B, then at C, and finally at A."
      ],
      "metadata": {
        "id": "ifKPn7rPqn8X"
      }
    },
    {
      "cell_type": "markdown",
      "source": [
        "We can see the MRO of a class by using __mro__ attribute or the mro() method:"
      ],
      "metadata": {
        "id": "N2GcaSJMrXlC"
      }
    },
    {
      "cell_type": "code",
      "source": [
        "print(D.__mro__)"
      ],
      "metadata": {
        "colab": {
          "base_uri": "https://localhost:8080/"
        },
        "id": "peA2zRD7qRZc",
        "outputId": "68b3cd3b-3d45-4ea3-c9a1-bacdfc2618ee"
      },
      "execution_count": 7,
      "outputs": [
        {
          "output_type": "stream",
          "name": "stdout",
          "text": [
            "(<class '__main__.D'>, <class '__main__.B'>, <class '__main__.C'>, <class '__main__.A'>, <class 'object'>)\n"
          ]
        }
      ]
    },
    {
      "cell_type": "markdown",
      "source": [
        "This shows that Python will look for methods in the following order:\n",
        "\n",
        "D -> B -> C -> A"
      ],
      "metadata": {
        "id": "BgayvMNBsABk"
      }
    },
    {
      "cell_type": "markdown",
      "source": [
        "**Question_14: Write a class method that keeps track of the number of instances created from a class**"
      ],
      "metadata": {
        "id": "nrVxQoq3sP2O"
      }
    },
    {
      "cell_type": "markdown",
      "source": [
        "Solution:"
      ],
      "metadata": {
        "id": "0PRQjXpasWVb"
      }
    },
    {
      "cell_type": "markdown",
      "source": [
        "We can keep track of the number of instances created from a class by using a class variable and a class method.\n",
        "\n",
        "The class variable will store the count, and the class method can either return the count or update it whenever a new instance is created."
      ],
      "metadata": {
        "id": "Cpg_Y9C_so2q"
      }
    },
    {
      "cell_type": "code",
      "source": [
        "class MyClass:\n",
        "    # Class variable to keep track of instance count\n",
        "    instance_count = 0\n",
        "\n",
        "    def __init__(self):\n",
        "        # Increment the count each time a new instance is created\n",
        "        MyClass.instance_count += 1\n",
        "\n",
        "    @classmethod\n",
        "    def get_instance_count(cls):\n",
        "        # Class method to access the instance count\n",
        "        return cls.instance_count\n",
        "\n",
        "# Example usage\n",
        "obj1 = MyClass()\n",
        "obj2 = MyClass()\n",
        "obj3 = MyClass()\n",
        "\n",
        "# Call the class method to get the current instance count\n",
        "print(MyClass.get_instance_count())"
      ],
      "metadata": {
        "colab": {
          "base_uri": "https://localhost:8080/"
        },
        "id": "WoZRtmuhr5y8",
        "outputId": "b69e0ba9-ef14-48d5-c00a-707e01f948d4"
      },
      "execution_count": 9,
      "outputs": [
        {
          "output_type": "stream",
          "name": "stdout",
          "text": [
            "3\n"
          ]
        }
      ]
    },
    {
      "cell_type": "markdown",
      "source": [
        "Output Explaination : Each time a new object of MyClass is created, the instance_count is incremented, and the class method allows you to query how many instances have been created."
      ],
      "metadata": {
        "id": "zyC0k1yBtF7i"
      }
    },
    {
      "cell_type": "markdown",
      "source": [
        "**Question_15: Implement a static method in a class that checks if a given year is a leap year.**"
      ],
      "metadata": {
        "id": "4p30OWiitXEM"
      }
    },
    {
      "cell_type": "markdown",
      "source": [
        "Solution:"
      ],
      "metadata": {
        "id": "6ezIW6zQtoFz"
      }
    },
    {
      "cell_type": "markdown",
      "source": [
        "A static method in Python is a method that belongs to the class but doesn't operate on an instance of the class or the class itself.\n",
        "\n",
        "It simply performs a task related to the class, but doesn't modify the class or instance variables."
      ],
      "metadata": {
        "id": "IP-Jm45Utp5s"
      }
    },
    {
      "cell_type": "code",
      "source": [
        "class YearUtils:\n",
        "\n",
        "    @staticmethod\n",
        "    def is_leap_year(year):\n",
        "        # Leap year logic:\n",
        "        # A year is a leap year if it is divisible by 4\n",
        "        # but not divisible by 100, except if it is divisible by 400.\n",
        "        if (year % 4 == 0 and year % 100 != 0) or (year % 400 == 0):\n",
        "            return True\n",
        "        return False\n",
        "\n",
        "# Example usage\n",
        "print(YearUtils.is_leap_year(2020))  # Output: True\n",
        "print(YearUtils.is_leap_year(2023))  # Output: False\n",
        "print(YearUtils.is_leap_year(1900))  # Output: False\n",
        "print(YearUtils.is_leap_year(2000))  # Output: True"
      ],
      "metadata": {
        "colab": {
          "base_uri": "https://localhost:8080/"
        },
        "id": "4EAu8hBjs-ck",
        "outputId": "dfc1dd14-6d0b-4d85-ff81-1ad8452cbe94"
      },
      "execution_count": 10,
      "outputs": [
        {
          "output_type": "stream",
          "name": "stdout",
          "text": [
            "True\n",
            "False\n",
            "False\n",
            "True\n"
          ]
        }
      ]
    },
    {
      "cell_type": "markdown",
      "source": [
        "NOTE: The above example shows how the static method can be called directly on the class without creating an instance of the class."
      ],
      "metadata": {
        "id": "_lAYKsLgt14h"
      }
    },
    {
      "cell_type": "markdown",
      "source": [
        "______________________________________________________"
      ],
      "metadata": {
        "id": "htTRUCUPuY2D"
      }
    }
  ]
}